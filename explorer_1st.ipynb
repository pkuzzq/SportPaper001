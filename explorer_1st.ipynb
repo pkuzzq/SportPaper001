{
 "cells": [
  {
   "cell_type": "code",
   "execution_count": 1,
   "metadata": {},
   "outputs": [
    {
     "name": "stdout",
     "output_type": "stream",
     "text": [
      "\n",
      "  ___  ____  ____  ____  ____ ©\n",
      " /__    /   ____/   /   ____/      17.0\n",
      "___/   /   /___/   /   /___/       MP—Parallel Edition\n",
      "\n",
      " Statistics and Data Science       Copyright 1985-2021 StataCorp LLC\n",
      "                                   StataCorp\n",
      "                                   4905 Lakeway Drive\n",
      "                                   College Station, Texas 77845 USA\n",
      "                                   800-STATA-PC        https://www.stata.com\n",
      "                                   979-696-4600        stata@stata.com\n",
      "\n",
      "Stata license: Single-user 8-core , expiring  1 Jan 2025\n",
      "Serial number: 501709301094\n",
      "  Licensed to: zhengqing.zhou\n",
      "               pkuzzq\n",
      "\n",
      "Notes:\n",
      "      1. Unicode is supported; see help unicode_advice.\n",
      "      2. More than 2 billion observations are allowed; see help obs_advice.\n",
      "      3. Maximum number of variables is set to 5,000; see help set_maxvar.\n",
      "\n",
      "Running /Applications/Stata/profile.do ...\n",
      "\n",
      "   \n",
      "         =============================================\n",
      "         \n",
      "                    Hello World! Hello Stata!\n",
      "\n",
      "         =============================================\n",
      "\n",
      "                   \n",
      "                        Songbl资源导航\n",
      "\n",
      "         推文分类          论文分类          Stata网站\n",
      "\n",
      "         常用数据          娱乐网站          中文期刊\n",
      "\n",
      "         翻译网站          最新推文          外部命令\n",
      "\n",
      "\n",
      "         ---------------------------------------------\n",
      "                   \n",
      "                         分类查看推文\n",
      "\n",
      " 面板模型:       静态面板          动态面板          面板VAR\n",
      "                 面板门槛          空间计量          其他面板\n",
      "\n",
      " 因果推断:       工具变量法        Heckman           断点回归\n",
      "                 合成控制法        倍分法DID         PSM-Match\n",
      "\n",
      " 离散模型:       Probit模型        Logit模型         Tobit模型\n",
      "                 负二项回归        泊松回归          分位数回归\n",
      "\n",
      " 常用模型:       SFA-DEA           虚拟变量          事件研究\n",
      "                 时间序列          生存分析          指标测算\n",
      "\n",
      " 其他板块:       回归分析          内生讨论          异质性分析\n",
      "                 调节效应          中介效应          稳健性检验\n",
      "\n",
      " 函数介绍:       数学函数          字符函数          正则表达式\n",
      "                 编程函数          egen函数          其他函数\n",
      "\n",
      " 数据清洗:       缺失值            变量名            数据合并\n",
      "                 标签处理          文件操作          乱码解决\n",
      "\n",
      " 数据处理:       变量处理          变量转换          数据处理\n",
      "                 Stata入门         面板数据          清洗案例\n",
      "\n",
      " 其他专题:       Stata绘图         Stata编程         Stata爬虫\n",
      "                 结果输出          论文写作          工具软件\n",
      "\n",
      " 快捷链接:       中文期刊          Stata杂志         最新推文\n",
      "                 资源导航          资源共享          AER\n",
      "\n",
      " 其他信息:       QJE               帮助文档\n",
      "\n",
      "         ----------------------------------------------\n",
      "          Stata 资源搜索： help lianxh     help songbl\n",
      "         ----------------------------------------------\n"
     ]
    }
   ],
   "source": [
    "import os\n",
    "os.chdir('/Applications/Stata/utilities')\n",
    "from pystata import config\n",
    "config.init('mp')"
   ]
  },
  {
   "cell_type": "markdown",
   "metadata": {},
   "source": [
    "# 探索因变量和自变量的基本关系\n",
    "## 在CFPS2010中找"
   ]
  },
  {
   "cell_type": "code",
   "execution_count": 2,
   "metadata": {},
   "outputs": [
    {
     "name": "stdout",
     "output_type": "stream",
     "text": [
      "\n",
      ". cd \"/Users/zhouzhengqing/Desktop/\"\n",
      "/Users/zhouzhengqing/Desktop\n",
      "\n",
      ". clear all\n",
      "\n",
      ". use \"/Users/zhouzhengqing/Desktop/SportPaper001/data/CFPS2010/cfps2010famecon\n",
      "> _202008.dta\"\n",
      "\n",
      ". \n"
     ]
    }
   ],
   "source": [
    "%%stata\n",
    "cd \"/Users/zhouzhengqing/Desktop/\"\n",
    "clear all\n",
    "use \"/Users/zhouzhengqing/Desktop/SportPaper001/data/CFPS2010/cfps2010famecon_202008.dta\"\n"
   ]
  }
 ],
 "metadata": {
  "kernelspec": {
   "display_name": "Python 3.9.9 64-bit",
   "language": "python",
   "name": "python3"
  },
  "language_info": {
   "codemirror_mode": {
    "name": "ipython",
    "version": 3
   },
   "file_extension": ".py",
   "mimetype": "text/x-python",
   "name": "python",
   "nbconvert_exporter": "python",
   "pygments_lexer": "ipython3",
   "version": "3.9.9"
  },
  "orig_nbformat": 4,
  "vscode": {
   "interpreter": {
    "hash": "aee8b7b246df8f9039afb4144a1f6fd8d2ca17a180786b69acc140d282b71a49"
   }
  }
 },
 "nbformat": 4,
 "nbformat_minor": 2
}
